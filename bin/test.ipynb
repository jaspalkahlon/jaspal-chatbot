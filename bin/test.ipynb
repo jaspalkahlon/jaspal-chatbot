{
 "cells": [
  {
   "cell_type": "code",
   "execution_count": 5,
   "id": "4beb2250",
   "metadata": {},
   "outputs": [
    {
     "name": "stdout",
     "output_type": "stream",
     "text": [
      "Jaspal Singh Kahlon\n"
     ]
    }
   ],
   "source": [
    "print('Jaspal Singh Kahlon')\n"
   ]
  },
  {
   "cell_type": "code",
   "execution_count": 6,
   "id": "dafa00c2",
   "metadata": {},
   "outputs": [
    {
     "name": "stdout",
     "output_type": "stream",
     "text": [
      "0_ _ _ _ \n"
     ]
    }
   ],
   "source": [
    "print ('0_ _ _ _ ')"
   ]
  },
  {
   "cell_type": "code",
   "execution_count": 7,
   "id": "25688f09",
   "metadata": {},
   "outputs": [
    {
     "name": "stdout",
     "output_type": "stream",
     "text": [
      "**********\n"
     ]
    }
   ],
   "source": [
    "print('*' * 10)"
   ]
  },
  {
   "cell_type": "code",
   "execution_count": 8,
   "id": "7e97b4ea",
   "metadata": {},
   "outputs": [
    {
     "name": "stdout",
     "output_type": "stream",
     "text": [
      "&&&&&&&&&&&&&&&&&&&&\n"
     ]
    }
   ],
   "source": [
    "print ('&' * 20)"
   ]
  },
  {
   "cell_type": "code",
   "execution_count": 9,
   "id": "34e3faed",
   "metadata": {},
   "outputs": [
    {
     "name": "stdout",
     "output_type": "stream",
     "text": [
      "What is your name? Jaspal\n",
      "Hi Jaspal\n"
     ]
    }
   ],
   "source": [
    "name = input('What is your name? ')\n",
    "print('Hi ' + name)"
   ]
  },
  {
   "cell_type": "code",
   "execution_count": 12,
   "id": "79185070",
   "metadata": {},
   "outputs": [
    {
     "name": "stdout",
     "output_type": "stream",
     "text": [
      "What is your name ?Jaspal\n",
      "What is your favorite color ?green\n",
      "How old are you ?47\n"
     ]
    },
    {
     "ename": "NameError",
     "evalue": "name 'colour' is not defined",
     "output_type": "error",
     "traceback": [
      "\u001b[0;31m---------------------------------------------------------------------------\u001b[0m",
      "\u001b[0;31mNameError\u001b[0m                                 Traceback (most recent call last)",
      "Cell \u001b[0;32mIn[12], line 4\u001b[0m\n\u001b[1;32m      2\u001b[0m Colour \u001b[38;5;241m=\u001b[39m \u001b[38;5;28minput\u001b[39m(\u001b[38;5;124m'\u001b[39m\u001b[38;5;124mWhat is your favorite color ?\u001b[39m\u001b[38;5;124m'\u001b[39m)\n\u001b[1;32m      3\u001b[0m Age \u001b[38;5;241m=\u001b[39m \u001b[38;5;28minput\u001b[39m(\u001b[38;5;124m'\u001b[39m\u001b[38;5;124mHow old are you ?\u001b[39m\u001b[38;5;124m'\u001b[39m)\n\u001b[0;32m----> 4\u001b[0m \u001b[38;5;28mprint\u001b[39m(name \u001b[38;5;241m+\u001b[39m \u001b[38;5;124m'\u001b[39m\u001b[38;5;124mfavorite color is \u001b[39m\u001b[38;5;124m'\u001b[39m \u001b[38;5;241m+\u001b[39m \u001b[43mcolour\u001b[49m , \u001b[38;5;241m+\u001b[39m \u001b[38;5;124m'\u001b[39m\u001b[38;5;124mand he is \u001b[39m\u001b[38;5;124m'\u001b[39m \u001b[38;5;241m+\u001b[39m age \u001b[38;5;241m+\u001b[39m \u001b[38;5;124m'\u001b[39m\u001b[38;5;124myears old\u001b[39m\u001b[38;5;124m'\u001b[39m)\n",
      "\u001b[0;31mNameError\u001b[0m: name 'colour' is not defined"
     ]
    }
   ],
   "source": [
    "name = input('What is your name ?')\n",
    "Colour = input('What is your favorite color ?')\n",
    "Age = input('How old are you ?')\n",
    "print(name + 'favorite color is ' + colour , + 'and he is ' + age + 'years old')"
   ]
  },
  {
   "cell_type": "code",
   "execution_count": 20,
   "id": "4a308581",
   "metadata": {},
   "outputs": [
    {
     "ename": "SyntaxError",
     "evalue": "invalid syntax (1042883361.py, line 1)",
     "output_type": "error",
     "traceback": [
      "\u001b[0;36m  Cell \u001b[0;32mIn[20], line 1\u001b[0;36m\u001b[0m\n\u001b[0;31m    var name = input('What is your name ?')\u001b[0m\n\u001b[0m        ^\u001b[0m\n\u001b[0;31mSyntaxError\u001b[0m\u001b[0;31m:\u001b[0m invalid syntax\n"
     ]
    }
   ],
   "source": [
    "var name = input('What is your name ?')\n",
    "var Colour = input('What is your favorite color ?')\n",
    "print('Hi ' + name)\n",
    "print('your favorite colour is' + colour)"
   ]
  },
  {
   "cell_type": "code",
   "execution_count": 26,
   "id": "e13b34d4",
   "metadata": {},
   "outputs": [
    {
     "name": "stdout",
     "output_type": "stream",
     "text": [
      "What is your name?kp\n",
      "What is your favorite colour?tan\n",
      "You are kp and your favorite color is tan\n"
     ]
    }
   ],
   "source": [
    "name = input ('What is your name?')\n",
    "colour = input('What is your favorite colour?')\n",
    "print('You are '  + name + ' and your favorite color is ' + colour)"
   ]
  },
  {
   "cell_type": "code",
   "execution_count": 30,
   "id": "e2f41893",
   "metadata": {},
   "outputs": [
    {
     "name": "stdout",
     "output_type": "stream",
     "text": [
      "What is your weight in pounds? 67\n"
     ]
    },
    {
     "ename": "NameError",
     "evalue": "name 'weigth' is not defined",
     "output_type": "error",
     "traceback": [
      "\u001b[0;31m---------------------------------------------------------------------------\u001b[0m",
      "\u001b[0;31mNameError\u001b[0m                                 Traceback (most recent call last)",
      "Cell \u001b[0;32mIn[30], line 2\u001b[0m\n\u001b[1;32m      1\u001b[0m weight \u001b[38;5;241m=\u001b[39m \u001b[38;5;28mint\u001b[39m(\u001b[38;5;28minput\u001b[39m(\u001b[38;5;124m'\u001b[39m\u001b[38;5;124mWhat is your weight in pounds? \u001b[39m\u001b[38;5;124m'\u001b[39m))\n\u001b[0;32m----> 2\u001b[0m Weigth_kg \u001b[38;5;241m=\u001b[39m \u001b[43mweigth\u001b[49m \u001b[38;5;241m*\u001b[39m \u001b[38;5;28mint\u001b[39m(\u001b[38;5;124m'\u001b[39m\u001b[38;5;124m0.456\u001b[39m\u001b[38;5;124m'\u001b[39m)\n\u001b[1;32m      3\u001b[0m \u001b[38;5;28mprint\u001b[39m(\u001b[38;5;28mtype\u001b[39m(weight))\n\u001b[1;32m      4\u001b[0m \u001b[38;5;28mint\u001b[39m(weigth_kg)\n",
      "\u001b[0;31mNameError\u001b[0m: name 'weigth' is not defined"
     ]
    }
   ],
   "source": [
    "weight = int(input('What is your weight in pounds? '))\n",
    "Weigth_kg = weigth * int('0.456')\n",
    "print(type(weight))\n",
    "int(weigth_kg)\n",
    "print('Your weight is ' + weight_kg + ' in kgs')"
   ]
  },
  {
   "cell_type": "code",
   "execution_count": 32,
   "id": "adb7327d",
   "metadata": {},
   "outputs": [
    {
     "name": "stdout",
     "output_type": "stream",
     "text": [
      "What is your weight in pounds? 89\n",
      "<class 'str'>\n"
     ]
    }
   ],
   "source": [
    "weight = input('What is your weight in pounds? ')\n",
    "print(type(weight))"
   ]
  },
  {
   "cell_type": "code",
   "execution_count": 46,
   "id": "22a55715",
   "metadata": {},
   "outputs": [
    {
     "name": "stdout",
     "output_type": "stream",
     "text": [
      "What is your weight in pounds? 55\n",
      "25.080000000000002\n"
     ]
    }
   ],
   "source": [
    "weight = input('What is your weight in pounds? ')\n",
    "kg = int(weight) * 0.456\n",
    "print(kg)"
   ]
  },
  {
   "cell_type": "code",
   "execution_count": null,
   "id": "0ff93a63",
   "metadata": {},
   "outputs": [],
   "source": []
  }
 ],
 "metadata": {
  "kernelspec": {
   "display_name": "Python 3 (ipykernel)",
   "language": "python",
   "name": "python3"
  },
  "language_info": {
   "codemirror_mode": {
    "name": "ipython",
    "version": 3
   },
   "file_extension": ".py",
   "mimetype": "text/x-python",
   "name": "python",
   "nbconvert_exporter": "python",
   "pygments_lexer": "ipython3",
   "version": "3.11.3"
  }
 },
 "nbformat": 4,
 "nbformat_minor": 5
}
